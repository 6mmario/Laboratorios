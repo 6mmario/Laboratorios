{
 "cells": [
  {
   "cell_type": "markdown",
   "id": "4a76c1c5-da3b-47d0-b1a7-b2e6c9452150",
   "metadata": {},
   "source": [
    "# Universidad Galileo\n",
    "## Mario Obed Morales Guitz\n",
    "## 24006981\n",
    "### Laboratorio 2"
   ]
  },
  {
   "cell_type": "markdown",
   "id": "6fabb87e-8b3f-4e58-abba-8e742c0d678f",
   "metadata": {},
   "source": [
    "1. Haga un programa en Python que reciba de parámetro un número de segundos y que despliegue en pantalla, las horas, minutos y segundos que representan. Por ejemplo: \n",
    "    - Si el número de segundos recibidos fuera: 2743 entonces su programa debería desplegar: Horas: 0, Minutos: 45, Segundos: 43 \n",
    "    - Si el número de segundos recibidos fuera 5871: Horas: 1, Minutos: 37, Segundos: 51 \n",
    "    - Recuerde manejar excepciones y errores que considere necesarios."
   ]
  },
  {
   "cell_type": "code",
   "execution_count": null,
   "id": "48d76ce2-6d4d-4539-aa9f-dd552a7b5866",
   "metadata": {
    "tags": []
   },
   "outputs": [],
   "source": [
    "def _conveSeg(segundos):\n",
    "\n",
    "    try:\n",
    "        segundos = int(segundos)\n",
    "    except ValueError:\n",
    "        raise ValueError(\"El valor introducido no es un número entero\")\n",
    "\n",
    "    horas = segundos // 3600\n",
    "    minutos = (segundos % 3600) // 60\n",
    "    segundos = segundos % 60\n",
    "\n",
    "    return horas, minutos, segundos\n",
    "\n",
    "def main():\n",
    "\n",
    "    segundos = input(\"Introduzca la cantidad de segundos: \")\n",
    "    try:\n",
    "        horas, minutos, segundos = _conveSeg(segundos)\n",
    "    except ValueError as error:\n",
    "        print(error)\n",
    "    else:\n",
    "        print(f\"Horas: {horas}, Minutos: {minutos}, Segundos: {segundos}\")\n",
    "\n",
    "if __name__ == \"__main__\":\n",
    "    main()\n"
   ]
  },
  {
   "cell_type": "markdown",
   "id": "78874484-81ce-48a4-9047-e51a823d099a",
   "metadata": {},
   "source": [
    "2. Haga una función en Python que dado un número entre 1 y 20. Y un carácter cualquiera despliegue cuatro patrones triangulares. Por ejemplo si el usuario ingresara el número 4 y el símbolo * el programa deberá desplegar lo siguiente:"
   ]
  },
  {
   "cell_type": "code",
   "execution_count": null,
   "id": "b57b6095-d990-41c3-a8e0-85e1965f1a7c",
   "metadata": {
    "tags": []
   },
   "outputs": [],
   "source": [
    "def triangulos(numero, simbolo):\n",
    "\n",
    "    try:\n",
    "        numero = int(numero)\n",
    "    except ValueError:\n",
    "        raise ValueError(\"El valor introducido no es un número entero\")\n",
    "\n",
    "    if not 1 <= numero <= 20:\n",
    "        raise ValueError(\"El valor introducido debe estar entre 1 y 20\")\n",
    "\n",
    "    # Las formas seran impresas hacia abajo\n",
    "    # Forma 1\n",
    "    for i in range(1, numero + 1):\n",
    "        print(\" \" * (numero - i) + simbolo * i)\n",
    "    \n",
    "    print()\n",
    "    \n",
    "    # Forma 2\n",
    "    for i in range(numero, 0, -1):\n",
    "        print(\" \" * (numero - i) + simbolo * i)\n",
    "    print()\n",
    "    \n",
    "    # Forma 3\n",
    "    for i in range(1, numero + 1):\n",
    "        print(simbolo * i)\n",
    "\n",
    "    print()\n",
    "    # Forma 4\n",
    "    for i in range(numero, 0, -1):\n",
    "        print(simbolo * i)\n",
    "\n",
    "\n",
    "def main():\n",
    "    numero = input(\"Introduzca un número entre 1 y 20: \")\n",
    "    simbolo = input(\"Introduzca un carácter: \")\n",
    "    \n",
    "    try:\n",
    "        triangulos(numero, simbolo)\n",
    "    except ValueError as error:\n",
    "        print(error)\n",
    "\n",
    "if __name__ == \"__main__\":\n",
    "    main()\n"
   ]
  },
  {
   "cell_type": "markdown",
   "id": "59618575-2569-4543-936c-1eb1e5794464",
   "metadata": {},
   "source": [
    "3. Haga un programa en Python que la fecha de nacimiento de una persona (puede ingresar por separado cada valor, es decir pedir primero día, luego mes y luego año), despliegue la edad de la persona en años, meses y días. Su resultado puede ser aproximado."
   ]
  },
  {
   "cell_type": "code",
   "execution_count": null,
   "id": "b017c154-11c9-4d07-9d50-40913c263c05",
   "metadata": {
    "tags": []
   },
   "outputs": [],
   "source": [
    "from datetime import date\n",
    "\n",
    "def _isEdad(fecha_nacimiento):\n",
    "\n",
    "    hoy = date.today()\n",
    "\n",
    "    anios = hoy.year - fecha_nacimiento.year\n",
    "    meses = hoy.month - fecha_nacimiento.month\n",
    "\n",
    "    # Si el mes actual es menor que el mes de nacimiento, significa que aún no ha cumplido el año completo\n",
    "    if meses < 0:\n",
    "        meses += 12\n",
    "        anios -= 1\n",
    "\n",
    "    dias = hoy.day - fecha_nacimiento.day\n",
    "\n",
    "    # Si el día actual es menor que el día de nacimiento, significa que aún no ha cumplido el mes completo\n",
    "    if dias < 0:\n",
    "        dias += 31\n",
    "        meses -= 1\n",
    "\n",
    "    return anios, meses, dias\n",
    "\n",
    "\n",
    "def main():\n",
    "\n",
    "    try:\n",
    "        dia = int(input(\"Día de nacimiento: \"))\n",
    "        mes = int(input(\"Mes de nacimiento: \"))\n",
    "        anio = int(input(\"Año de nacimiento: \"))\n",
    "    except ValueError:\n",
    "        raise ValueError(\"El valor introducido no es un número entero\")\n",
    "\n",
    "    fecha_nacimiento = date(anio, mes, dia)\n",
    "\n",
    "    anios, meses, dias = _isEdad(fecha_nacimiento)\n",
    "\n",
    "    print(f\"Edad: {anios} años, {meses} meses, {dias} días\")\n",
    "\n",
    "\n",
    "if __name__ == \"__main__\":\n",
    "    main()\n"
   ]
  },
  {
   "cell_type": "markdown",
   "id": "f9b625fe-e610-4be8-a9e7-05d1ee2aa141",
   "metadata": {},
   "source": [
    "4. Escriba una función en Python que dada una tupla de elementos (números o letras) esta se convierta a un string. Tomar nota del siguiente ejemplo: \n",
    "    - Si la entrada fuera: (10, 20, 40, 5, 70) \n",
    "    - La salida debería ser: 102040570"
   ]
  },
  {
   "cell_type": "code",
   "execution_count": null,
   "id": "67576545-1534-484e-8b08-bb9c1e85fcde",
   "metadata": {
    "tags": []
   },
   "outputs": [],
   "source": [
    "def _converStr(tupla):\n",
    "\n",
    "    cadena = \"\"\n",
    "    for elemento in tupla:\n",
    "        cadena += str(elemento)\n",
    "    return cadena\n",
    "\n",
    "# Ejemplo de uso\n",
    "tupla = (10, 's', 40, 'kjlkj', 70)\n",
    "cadena = _converStr(tupla)\n",
    "print(cadena)\n"
   ]
  },
  {
   "cell_type": "markdown",
   "id": "a54ede80-5846-4459-882e-53d5b8e43b8c",
   "metadata": {},
   "source": [
    "5. Cree un programa en Python que dada una lista de tuplas, elimine las tuplas que están vacías. Tomar nota del siguiente ejemplo: \n",
    "    - Si la lista fuera: [(), (), (’X’,), (’a’, ’b’), (’a’, ’b’, ’c’), (’d’)] \n",
    "    - El resultado debería ser: [(’X’), (’a’, ’b’), (’a’, ’b’, ’c’), ’d’]"
   ]
  },
  {
   "cell_type": "code",
   "execution_count": null,
   "id": "e5b24a16-8187-4d2d-8492-70da6c421050",
   "metadata": {
    "tags": []
   },
   "outputs": [],
   "source": [
    "# Lista de tuplas de ejemplo\n",
    "lista_tuplas = [(), (), ('X',), ('a', 'b'),(), ('a', 'b', 'c'), ('d')]\n",
    "\n",
    "resultado = [tupla[0] if len(tupla) == 1 else tupla for tupla in lista_tuplas if tupla]\n",
    "\n",
    "print(resultado)\n"
   ]
  },
  {
   "cell_type": "markdown",
   "id": "58ca305d-e243-4330-8808-a6761cd0427f",
   "metadata": {},
   "source": [
    "6. Cree una función en Python que dada una tupla de tuplas con números, produzca una tupla con el promedio de cada tupla individual, debe usar comprehensions para desarrollar este ejercicio. Tomar nota del siguiente ejemplo: \n",
    "    - Si la tupla de entrada fuera: ((10, 10, 10, 12), (30, 45, 56, 45), (81, 80, 39, 32)) \n",
    "    - El resultado debería ser: (10.5, 44, 58)\n"
   ]
  },
  {
   "cell_type": "code",
   "execution_count": 50,
   "id": "7cbd5398-be52-4608-b82d-7758678311a4",
   "metadata": {
    "tags": []
   },
   "outputs": [
    {
     "name": "stdout",
     "output_type": "stream",
     "text": [
      "(2.5, 33.0, 51.25, 4.0)\n"
     ]
    }
   ],
   "source": [
    "def _promedio(tupla_grande):\n",
    "  \n",
    "  if not tupla_grande:\n",
    "    raise ValueError(\"De entrada se encuentra vacio\")\n",
    "  \n",
    "  for elemento in tupla_grande:\n",
    "    if not isinstance(elemento, tuple):\n",
    "        raise ValueError(\"Error, contiene elementos que no cumplen como tuplas\")\n",
    "    \n",
    "    for item in elemento:\n",
    "        if not isinstance(item, (int, float)):\n",
    "            raise TypeError(\"los valores de las tuplas, no son valores numericos\")\n",
    "  \n",
    "  return tuple(sum(tupla) / len(tupla) for tupla in tupla_grande)\n",
    "\n",
    "# Ejemplo de uso\n",
    "tupla_entrada = ((1,2,3,4), (55,44,33,22,11), (81, 80, 39, 5),(3,4,5))\n",
    "resultado = _promedio(tupla_entrada)\n",
    "print(resultado) \n"
   ]
  },
  {
   "cell_type": "markdown",
   "id": "77ce857d-6e07-4586-b85d-c05ec1e7ff6b",
   "metadata": {},
   "source": [
    "7. Escribir un programa que gestione las facturas pendientes de cobro de una empresa. Las facturas se almacenarán en un diccionario donde la llave de cada factura será el número de factura (debe utilizar un numero de 4 dígitos) y el valor el coste de la factura. El programa debe preguntar al usuario si quiere añadir una nueva factura, pagar una existente o terminar. Si desea añadir una nueva factura se preguntará por el número de factura y su coste y se añadirá al diccionario, para confirmar que la factura se ingreso correctamente el programa debe desplegar el diccionario completo. Si se desea pagar una factura se preguntará por el número de factura y se eliminará del diccionario. Después de cada operación el programa debe mostrar en pantalla la cantidad cobrada hasta el momento y la cantidad pendiente de cobro. Puede utilizar otras estructuras de datos como apoyo si lo considera necesario\n"
   ]
  },
  {
   "cell_type": "code",
   "execution_count": null,
   "id": "1c0d4e47-a0d3-4714-9949-fe94f3c7170f",
   "metadata": {
    "tags": []
   },
   "outputs": [],
   "source": [
    "from collections import defaultdict\n",
    "\n",
    "def _validaFactura(numero_factura):\n",
    "\n",
    "    try:\n",
    "        numero_factura = int(numero_factura)\n",
    "    except ValueError:\n",
    "        raise ValueError(\"El número de factura debe ser un número entero\")\n",
    "\n",
    "    if len(str(numero_factura)) != 4:\n",
    "        raise ValueError(\"El número de factura debe tener 4 dígitos\")\n",
    "\n",
    "    return numero_factura\n",
    "\n",
    "def _addFactura(facturas, numero_factura, coste):\n",
    "\n",
    "    facturas[numero_factura] = coste\n",
    "\n",
    "def _pagaFactura(facturas, numero_factura):\n",
    "    del facturas[numero_factura]\n",
    "\n",
    "def _calculaTotal(facturas):\n",
    "\n",
    "    total_cobrado = sum(facturas.values())\n",
    "    total_pendiente = 0\n",
    "    for valor in facturas.values():\n",
    "        if valor > 0:\n",
    "            total_pendiente += valor\n",
    "    return total_cobrado, total_pendiente\n",
    "\n",
    "def main():\n",
    "\n",
    "    facturas = defaultdict(float)\n",
    "\n",
    "    while True:\n",
    "        print(\"-\" * 20)\n",
    "        print(\"Gestión de facturas\")\n",
    "        print(\"-\" * 20)\n",
    "\n",
    "        opcion = input(\"Opciones: (A)ñadir, (P)agar o (T)erminar: \").strip().upper()\n",
    "\n",
    "        if opcion not in (\"A\", \"P\", \"T\"):\n",
    "            print(\"ERROR! Opción no válida.\")\n",
    "            continue\n",
    "\n",
    "        if opcion == \"A\":\n",
    "            try:\n",
    "                numero_factura = _validaFactura(input(\"Introduzca el número de factura: \"))\n",
    "                coste = float(input(\"Introduzca el costo de la factura: \"))\n",
    "            except ValueError as error:\n",
    "                print(error)\n",
    "                continue\n",
    "\n",
    "            _addFactura(facturas, numero_factura, coste)\n",
    "            print(\"Factura agregada correctamente.!!\")\n",
    "            print(facturas)\n",
    "        elif opcion == \"P\":\n",
    "            try:\n",
    "                numero_factura = _validaFactura(input(\"Introduzca el número de factura a pagar: \"))\n",
    "            except ValueError as error:\n",
    "                print(error)\n",
    "                continue\n",
    "\n",
    "            if numero_factura not in facturas:\n",
    "                print(f\"No existe una factura con el número {numero_factura}\")\n",
    "                continue\n",
    "\n",
    "            _pagaFactura(facturas, numero_factura)\n",
    "            print(\"Factura pagada correctamente.\")\n",
    "\n",
    "        elif opcion == \"T\":\n",
    "            total_cobrado, total_pendiente = _calculaTotal(facturas)\n",
    "            print(f\"Total cobrado: {total_cobrado}\")\n",
    "            print(f\"Total pendiente de cobro: {total_pendiente}\")\n",
    "            break\n",
    "\n",
    "if __name__ == \"__main__\":\n",
    "    main()\n"
   ]
  },
  {
   "cell_type": "markdown",
   "id": "8d5319e4-af55-44eb-b533-53fdadda08f7",
   "metadata": {},
   "source": [
    "8. Haga una función en Python, que cree un set con todas las cartas de una baraja de Póker utilizando el siguiente formato: Tipo-Numero. Utilice las letras T para tréboles, C para corazones, P para picas y E para espadas. Para los números utilice la numeración del 1 al 13. Por ejemplo E13 - sería Rey de Espadas, P01 sería As de Picas, T05 seria cinco de Tréboles. \n",
    "    - Posteriormente cree una función que dado el conjunto anterior cree dos sets nuevos de cartas, cada conjunto debe tener una cantidad variable de elementos, puede utilizar numerosa aleatorios enteros para definir la longitud de los conjuntos. \n",
    "    - Adicionalmente, deberá calcular la probabilidad de la intersección de ambos conjuntos y demuestre si son eventos independientes con la regla del producto. \n",
    "    - Para concluir, calcule probabilidad de la unión de ambos conjuntos y demuestre que se cumple la regla de la adición"
   ]
  },
  {
   "cell_type": "code",
   "execution_count": null,
   "id": "7562486a-4a47-46d3-898c-fd4b6fda70c4",
   "metadata": {},
   "outputs": [],
   "source": []
  }
 ],
 "metadata": {
  "kernelspec": {
   "display_name": "Python 3 (ipykernel)",
   "language": "python",
   "name": "python3"
  },
  "language_info": {
   "codemirror_mode": {
    "name": "ipython",
    "version": 3
   },
   "file_extension": ".py",
   "mimetype": "text/x-python",
   "name": "python",
   "nbconvert_exporter": "python",
   "pygments_lexer": "ipython3",
   "version": "3.11.5"
  }
 },
 "nbformat": 4,
 "nbformat_minor": 5
}
